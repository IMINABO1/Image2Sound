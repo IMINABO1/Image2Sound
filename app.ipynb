{
 "cells": [
  {
   "cell_type": "markdown",
   "metadata": {},
   "source": [
    "### Import Dependecies"
   ]
  },
  {
   "cell_type": "code",
   "execution_count": 1,
   "metadata": {},
   "outputs": [],
   "source": [
    "import numpy as np\n",
    "import cv2\n",
    "from math import ceil\n",
    "import sounddevice as sd\n",
    "from time import sleep"
   ]
  },
  {
   "cell_type": "markdown",
   "metadata": {},
   "source": [
    "### Pre-process Image"
   ]
  },
  {
   "cell_type": "code",
   "execution_count": 2,
   "metadata": {},
   "outputs": [],
   "source": [
    "def input_image(file_path):\n",
    "    img=cv2.imread(file_path)\n",
    "    return cv2.cvtColor(img,cv2.COLOR_BGR2HSV)"
   ]
  },
  {
   "cell_type": "markdown",
   "metadata": {},
   "source": [
    "#### convert image to 256x256 if it is larger"
   ]
  },
  {
   "cell_type": "code",
   "execution_count": 3,
   "metadata": {},
   "outputs": [],
   "source": [
    "def resize(image):\n",
    "    #if img size is greater than 256x256 we should resize\n",
    "    #print(image.shape)\n",
    "    width,height=image.shape[0],image.shape[1]\n",
    "    if width>256 and height<256:\n",
    "        new_image=cv2.resize(image,(256,height))\n",
    "    elif height>256 and width<256:\n",
    "        new_image=cv2.resize(image,(width,256))\n",
    "    elif width>256 and height>256:\n",
    "        new_image=cv2.resize(image,(256,256))\n",
    "    \n",
    "    new_image=new_image.astype(np.float32)\n",
    "    new_image=new_image.round(3)\n",
    "    \n",
    "    return new_image"
   ]
  },
  {
   "cell_type": "markdown",
   "metadata": {},
   "source": [
    "## Convert Image to Sound"
   ]
  },
  {
   "cell_type": "markdown",
   "metadata": {},
   "source": [
    "### map Hue ranges to musical note frequencies"
   ]
  },
  {
   "cell_type": "code",
   "execution_count": 4,
   "metadata": {},
   "outputs": [],
   "source": [
    "hue2notes={\n",
    "    0:0,\n",
    "    1: 16.35,      #\"C0\"\n",
    "    2: 17.32,      #\"C#0\"\n",
    "    3: 18.35,      #\"D0\"\n",
    "    4: 19.45,      #\"E_flat0\n",
    "    5: 20.6,      #\"E0\"\n",
    "    6: 21.83,      #\"F0\"\n",
    "    7:23.12,      #\"F#0\"\n",
    "    8: 24.5,      #\"G0\"\n",
    "    9: 25.96,      #\"A_flat0\n",
    "    10: 27.5,      #\"A0\"\n",
    "    11:29.14,      #\"B_flat0\n",
    "    12:30.87,      #\"B0\"\n",
    "}"
   ]
  },
  {
   "cell_type": "markdown",
   "metadata": {},
   "source": [
    "### Convert Hue to Note frequency"
   ]
  },
  {
   "cell_type": "code",
   "execution_count": 5,
   "metadata": {},
   "outputs": [],
   "source": [
    "def hue2note(hue):\n",
    "    hue_percent=hue/179\n",
    "    note=hue_percent*12\n",
    "    note_index=np.round(note)\n",
    "    #print(note_index)\n",
    "    freq=hue2notes[note_index]\n",
    "    \n",
    "    return freq\n"
   ]
  },
  {
   "cell_type": "markdown",
   "metadata": {},
   "source": [
    "### Convert Saturation to Octave value"
   ]
  },
  {
   "cell_type": "code",
   "execution_count": 6,
   "metadata": {},
   "outputs": [],
   "source": [
    "def s2note(saturation):\n",
    "    if saturation==0: return 0\n",
    "    else:\n",
    "        octave=saturation/32\n",
    "\n",
    "    return ceil(octave)\n"
   ]
  },
  {
   "cell_type": "markdown",
   "metadata": {},
   "source": [
    "### Convert Value (or lightness) to Amplitude"
   ]
  },
  {
   "cell_type": "code",
   "execution_count": 7,
   "metadata": {},
   "outputs": [],
   "source": [
    "def v2note(value):\n",
    "    if value==0: return 0\n",
    "    else:\n",
    "        amplitude=value/255\n",
    "        amplitude=\"{:.2f}\".format(amplitude)\n",
    "\n",
    "    return amplitude\n"
   ]
  },
  {
   "cell_type": "markdown",
   "metadata": {},
   "source": [
    "### Modify Hue values of Array to Frequencies"
   ]
  },
  {
   "cell_type": "code",
   "execution_count": 8,
   "metadata": {},
   "outputs": [],
   "source": [
    "def modify_array_hue(array):\n",
    "  for i in range(array.shape[0]):\n",
    "    for j in range(array.shape[1]):  \n",
    "      array[i,j,0] = hue2note(array[i,j,0])\n",
    "\n",
    "  return array"
   ]
  },
  {
   "cell_type": "markdown",
   "metadata": {},
   "source": [
    "### Modify Saturation values of Array to Octave"
   ]
  },
  {
   "cell_type": "code",
   "execution_count": 9,
   "metadata": {},
   "outputs": [],
   "source": [
    "def modify_array_saturation(array):\n",
    "  for i in range(array.shape[0]):\n",
    "    for j in range(array.shape[1]):  \n",
    "      array[i,j,1] = s2note(array[i,j,1])\n",
    "\n",
    "  return array"
   ]
  },
  {
   "cell_type": "markdown",
   "metadata": {},
   "source": [
    "### Modify Values (or lightness) of Array to Octave"
   ]
  },
  {
   "cell_type": "code",
   "execution_count": 10,
   "metadata": {},
   "outputs": [],
   "source": [
    "def modify_array_value(array):\n",
    "  for i in range(array.shape[0]):\n",
    "    for j in range(array.shape[1]):  \n",
    "      array[i,j,2] = v2note(array[i,j,2])\n",
    "\n",
    "  return array"
   ]
  },
  {
   "cell_type": "markdown",
   "metadata": {},
   "source": [
    "## Pre-process Sound"
   ]
  },
  {
   "cell_type": "markdown",
   "metadata": {},
   "source": [
    "### Convert Pixel to frequency"
   ]
  },
  {
   "cell_type": "code",
   "execution_count": 11,
   "metadata": {},
   "outputs": [],
   "source": [
    "def px2freq(array):\n",
    "    freq=array[0]*(array[1]*(2**array[1]))\n",
    "    return freq\n"
   ]
  },
  {
   "cell_type": "markdown",
   "metadata": {},
   "source": [
    "### Create Co-sinusodial wave"
   ]
  },
  {
   "cell_type": "code",
   "execution_count": 16,
   "metadata": {},
   "outputs": [],
   "source": [
    "def make_wave(freq, duration,amplitude,sample_rate = 44100,):\n",
    "    wave = []\n",
    "\n",
    "    for i in range(0,int(duration*sample_rate)):\n",
    "        wave.append(i/((sample_rate/(2*np.pi))/freq))\n",
    "\n",
    "    wave = amplitude*np.cos(np.stack(wave))\n",
    "    return wave"
   ]
  },
  {
   "cell_type": "markdown",
   "metadata": {},
   "source": [
    "### Create Chord with two notes (two pixels)"
   ]
  },
  {
   "cell_type": "code",
   "execution_count": 22,
   "metadata": {},
   "outputs": [],
   "source": [
    "def chord(array):\n",
    "  a=[]\n",
    "  for col in range(0,array.shape[1]):\n",
    "    for row in range(array.shape[0]):  \n",
    "      freq=px2freq(array[row,col])\n",
    "      a.append(freq)\n",
    "    chord0=make_wave(a[0],0.5,array[row,col,0])\n",
    "    chord1=make_wave(a[1],0.5,array[row,col,1])\n",
    "    chord_sum=chord0+chord1\n",
    "    chord_sum = chord_sum*0.1/np.max(chord_sum) #to prevent the volume (amplitude) to be beyond 1 # to prevent clipping of sound\n",
    "    sd.play(chord_sum,22050)\n",
    "    a.clear()\n",
    "    sleep(.9)\n",
    "  \n",
    "  return \"Done\""
   ]
  },
  {
   "cell_type": "markdown",
   "metadata": {},
   "source": [
    "## Example\n",
    "##### Create a deep copy before you commence operation to avoid overwriting image file"
   ]
  },
  {
   "cell_type": "code",
   "execution_count": 23,
   "metadata": {},
   "outputs": [
    {
     "name": "stderr",
     "output_type": "stream",
     "text": [
      "C:\\Users\\Iminabo\\AppData\\Local\\Temp\\ipykernel_19516\\670263659.py:5: RuntimeWarning: divide by zero encountered in scalar divide\n",
      "  wave.append(i/((sample_rate/(2*np.pi))/freq))\n"
     ]
    }
   ],
   "source": [
    "img=input_image(\"img/img_2.png\")\n",
    "new_img=resize(img)\n",
    "deep_img_copy=new_img.copy()\n",
    "modify_array_hue(deep_img_copy)\n",
    "modify_array_saturation(deep_img_copy)\n",
    "modify_array_value(deep_img_copy)\n",
    "chord(deep_img_copy)"
   ]
  },
  {
   "cell_type": "code",
   "execution_count": null,
   "metadata": {},
   "outputs": [],
   "source": []
  }
 ],
 "metadata": {
  "kernelspec": {
   "display_name": "app",
   "language": "python",
   "name": "python3"
  },
  "language_info": {
   "codemirror_mode": {
    "name": "ipython",
    "version": 3
   },
   "file_extension": ".py",
   "mimetype": "text/x-python",
   "name": "python",
   "nbconvert_exporter": "python",
   "pygments_lexer": "ipython3",
   "version": "3.10.11"
  }
 },
 "nbformat": 4,
 "nbformat_minor": 2
}
